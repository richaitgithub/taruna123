{
 "cells": [
  {
   "cell_type": "raw",
   "id": "4537d81f",
   "metadata": {},
   "source": [
    "1. In the below elements which of them are values or an expression? eg:- values can be\n",
    "integer or string and expressions will be mathematical operators.\n",
    "*\n",
    "'hello'\n",
    "-87.8\n",
    "-\n",
    "/\n",
    "+\n",
    "6"
   ]
  },
  {
   "cell_type": "raw",
   "id": "9e7a757d",
   "metadata": {},
   "source": [
    "Values = 'hello', -87.8, 6\n",
    "Expression = *, -, /, +\n"
   ]
  },
  {
   "cell_type": "raw",
   "id": "c97a9807",
   "metadata": {},
   "source": [
    "\n",
    "\n",
    "2. What is the difference between string and variable?"
   ]
  },
  {
   "cell_type": "raw",
   "id": "074f179f",
   "metadata": {},
   "source": [
    "\n",
    "String:\n",
    "A string is a type of value that can be stored in a variable. A String is usually words, enclosed with \"\" , Eg String x =\"Welcome to ineuron\" x is the Variable, and we declared it as a String, use the single = to assign the text to it.\n",
    "\n",
    "Variable:\n",
    "Variables are symbols that you can use to store data in a program. \n"
   ]
  },
  {
   "cell_type": "raw",
   "id": "1e9cdab1",
   "metadata": {},
   "source": [
    "3. Describe three different data types."
   ]
  },
  {
   "cell_type": "raw",
   "id": "57fd3372",
   "metadata": {},
   "source": [
    "Numeric data type:\n",
    "In Python, numeric data type represent the data which has numeric value. Numeric value can be integer, floating number or even complex numbers. These values are defined as int, float and complex class in Python.\n",
    "\n",
    "Sequence data type:\n",
    "In Python, sequence is the ordered collection of similar or different data types. Sequences allows to store multiple values in an organized and efficient fashion. There are several sequence types in Python –\n",
    "-> String\n",
    "-> List\n",
    "-> Tuple\n",
    "\n",
    "Boolean data type:\n",
    "Data type with one of the two built-in values, True or False. Boolean objects that are equal to True are truthy (true), and those equal to False are falsy (false).\n"
   ]
  },
  {
   "cell_type": "raw",
   "id": "678f14c3",
   "metadata": {},
   "source": [
    "4. What is an expression made up of? What do all expressions do?"
   ]
  },
  {
   "cell_type": "raw",
   "id": "a9321851",
   "metadata": {},
   "source": [
    "An expression is a combination of operators and operands that is interpreted to produce some other value. In any programming language, an expression is evaluated as per the precedence of its operators"
   ]
  },
  {
   "cell_type": "raw",
   "id": "f523e564",
   "metadata": {},
   "source": [
    "An expression is a combination of operators and operands that is interpreted to produce some other value. In any programming language, an expression is evaluated as per the precedence of its operators"
   ]
  },
  {
   "cell_type": "raw",
   "id": "23f19b8e",
   "metadata": {},
   "source": [
    "5. This assignment statements, like spam = 10. What is the difference between an\n",
    "expression and a statement?"
   ]
  },
  {
   "cell_type": "raw",
   "id": "c3a7b996",
   "metadata": {},
   "source": [
    "An expression evaluates to a single value. A statement does not."
   ]
  },
  {
   "cell_type": "raw",
   "id": "789d33e5",
   "metadata": {},
   "source": [
    "6. After running the following code, what does the variable bacon contain?\n",
    "bacon = 22\n",
    "bacon + 1"
   ]
  },
  {
   "cell_type": "raw",
   "id": "a6fe5135",
   "metadata": {},
   "source": [
    "The bacon variable is set to 22. The bacon + 1 expression does not reassign the value in bacon (that would need an assignment statement: bacon = bacon + 1)\n"
   ]
  },
  {
   "cell_type": "raw",
   "id": "6faa61f3",
   "metadata": {},
   "source": [
    "7. What should the values of the following two terms be?\n",
    "'spam'+'spamspam'\n",
    "'spam'*3"
   ]
  },
  {
   "cell_type": "raw",
   "id": "378fcfcb",
   "metadata": {},
   "source": [
    "'spam'+'spamspam' -> spamspamspam\n",
    "'spam'*3  -> spamspamspam"
   ]
  },
  {
   "cell_type": "raw",
   "id": "62f0a733",
   "metadata": {},
   "source": [
    "The values of following two terms should be same."
   ]
  },
  {
   "cell_type": "raw",
   "id": "9d404d58",
   "metadata": {},
   "source": [
    "8. Why is eggs a valid variable name while 100 is invalid?"
   ]
  },
  {
   "cell_type": "raw",
   "id": "2f5b6a83",
   "metadata": {},
   "source": [
    "variable name cannot begin with number"
   ]
  },
  {
   "cell_type": "raw",
   "id": "248cba50",
   "metadata": {},
   "source": [
    "9. What three functions can be used to get the integer, floating-point number, or string\n",
    "version of a value?"
   ]
  },
  {
   "cell_type": "raw",
   "id": "c8149553",
   "metadata": {},
   "source": [
    "The int(), float(), and str() functions will evaluate to the integer, floating-point number, and string versions of the value passed to them."
   ]
  },
  {
   "cell_type": "raw",
   "id": "bfd0ec3c",
   "metadata": {},
   "source": [
    "10. Why does this expression cause an error? How can you fix it?\n",
    "'I have eaten' + 99 +'burritos.'"
   ]
  },
  {
   "cell_type": "raw",
   "id": "f7ebdf0f",
   "metadata": {},
   "source": [
    "The expression causes an error because 99 is an integer, and only strings can be concatenated to other strings with the + operator. The correct way is I have eaten ' + str(99) + ' burritos.'."
   ]
  },
  {
   "cell_type": "raw",
   "id": "b77b7eb8",
   "metadata": {},
   "source": [
    "'I have eaten ' + str(99) + ' burritos.'"
   ]
  },
  {
   "cell_type": "code",
   "execution_count": null,
   "id": "cf864d33",
   "metadata": {},
   "outputs": [],
   "source": []
  }
 ],
 "metadata": {
  "kernelspec": {
   "display_name": "Python 3 (ipykernel)",
   "language": "python",
   "name": "python3"
  },
  "language_info": {
   "codemirror_mode": {
    "name": "ipython",
    "version": 3
   },
   "file_extension": ".py",
   "mimetype": "text/x-python",
   "name": "python",
   "nbconvert_exporter": "python",
   "pygments_lexer": "ipython3",
   "version": "3.9.12"
  }
 },
 "nbformat": 4,
 "nbformat_minor": 5
}
